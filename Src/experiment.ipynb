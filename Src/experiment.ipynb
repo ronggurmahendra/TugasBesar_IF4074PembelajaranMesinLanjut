{
 "cells": [
  {
   "cell_type": "code",
   "execution_count": 28,
   "metadata": {},
   "outputs": [],
   "source": [
    "from utils import *\n",
    "from CNN import *\n",
    "from random import *\n",
    "import copy\n",
    "import numpy as np\n",
    "import cv2\n",
    "import os"
   ]
  },
  {
   "cell_type": "markdown",
   "metadata": {},
   "source": [
    "# Load data"
   ]
  },
  {
   "cell_type": "code",
   "execution_count": 29,
   "metadata": {},
   "outputs": [],
   "source": [
    "# load image and label from folder\n",
    "def load_images_from_folder(folder):\n",
    "    images = []\n",
    "    labels = []\n",
    "    for label in os.listdir(folder):\n",
    "        label_path = os.path.join(folder, label)\n",
    "        if os.path.isdir(label_path):\n",
    "            for filename in os.listdir(label_path):\n",
    "                img_path = os.path.join(label_path, filename)\n",
    "                if os.path.isfile(img_path):\n",
    "                    image = cv2.imread(img_path)\n",
    "                    if image is not None:\n",
    "                        images.append(image)\n",
    "                        labels.append(label)  \n",
    "    return images, labels"
   ]
  },
  {
   "cell_type": "code",
   "execution_count": 52,
   "metadata": {},
   "outputs": [],
   "source": [
    "trainDir = '../data/archive/PandasBears/Train/'\n",
    "testDir = '../data/archive/PandasBears/Test/'\n",
    "\n",
    "train_x, train_y = load_images_from_folder(trainDir)\n",
    "test_x, test_y = load_images_from_folder(trainDir)"
   ]
  },
  {
   "cell_type": "markdown",
   "metadata": {},
   "source": [
    "# Ncross Val"
   ]
  },
  {
   "cell_type": "code",
   "execution_count": 65,
   "metadata": {},
   "outputs": [],
   "source": [
    "def n_fold_cross_validation(data, labels, n_folds):\n",
    "    if len(data) != len(labels):\n",
    "        print(\"data and label is not the same length\")\n",
    "        return \n",
    "    fold_data = []\n",
    "    data_labels = list(zip(data, labels))\n",
    "    np.random.shuffle(data_labels)\n",
    "\n",
    "    fold_size = len(data) // n_folds\n",
    "\n",
    "    for i in range(n_folds):\n",
    "        start = i * fold_size\n",
    "        end = (i + 1) * fold_size if i < n_folds - 1 else len(data)\n",
    "        \n",
    "        test_set = data_labels[start:end]\n",
    "        train_set = data_labels[:start] + data_labels[end:]\n",
    "        \n",
    "        fold_data.append((train_set, test_set))\n",
    "\n",
    "    return fold_data"
   ]
  },
  {
   "cell_type": "code",
   "execution_count": 66,
   "metadata": {},
   "outputs": [],
   "source": [
    "n_folds = 10\n",
    "\n",
    "folds = n_fold_cross_validation(train_x, train_y, n_folds)"
   ]
  },
  {
   "cell_type": "code",
   "execution_count": 69,
   "metadata": {},
   "outputs": [
    {
     "data": {
      "text/plain": [
       "10"
      ]
     },
     "execution_count": 69,
     "metadata": {},
     "output_type": "execute_result"
    }
   ],
   "source": [
    "len(folds)"
   ]
  },
  {
   "cell_type": "code",
   "execution_count": 70,
   "metadata": {},
   "outputs": [
    {
     "data": {
      "text/plain": [
       "2"
      ]
     },
     "execution_count": 70,
     "metadata": {},
     "output_type": "execute_result"
    }
   ],
   "source": [
    "len(folds[0])"
   ]
  },
  {
   "cell_type": "code",
   "execution_count": 72,
   "metadata": {},
   "outputs": [
    {
     "data": {
      "text/plain": [
       "450"
      ]
     },
     "execution_count": 72,
     "metadata": {},
     "output_type": "execute_result"
    }
   ],
   "source": [
    "len(folds[0][0])"
   ]
  },
  {
   "cell_type": "code",
   "execution_count": 80,
   "metadata": {},
   "outputs": [
    {
     "data": {
      "text/plain": [
       "'Bears'"
      ]
     },
     "execution_count": 80,
     "metadata": {},
     "output_type": "execute_result"
    }
   ],
   "source": [
    "folds[0][0][0][1]"
   ]
  },
  {
   "cell_type": "code",
   "execution_count": 67,
   "metadata": {},
   "outputs": [
    {
     "name": "stdout",
     "output_type": "stream",
     "text": [
      "Fold 1 - Train Set Length: 450, Test Set Length: 50\n",
      "Fold 2 - Train Set Length: 450, Test Set Length: 50\n",
      "Fold 3 - Train Set Length: 450, Test Set Length: 50\n",
      "Fold 4 - Train Set Length: 450, Test Set Length: 50\n",
      "Fold 5 - Train Set Length: 450, Test Set Length: 50\n",
      "Fold 6 - Train Set Length: 450, Test Set Length: 50\n",
      "Fold 7 - Train Set Length: 450, Test Set Length: 50\n",
      "Fold 8 - Train Set Length: 450, Test Set Length: 50\n",
      "Fold 9 - Train Set Length: 450, Test Set Length: 50\n",
      "Fold 10 - Train Set Length: 450, Test Set Length: 50\n"
     ]
    }
   ],
   "source": [
    "for i, (train_set, test_set) in enumerate(folds):\n",
    "    print(f\"Fold {i+1} - Train Set Length: {len(train_set)}, Test Set Length: {len(test_set)}\")"
   ]
  },
  {
   "cell_type": "markdown",
   "metadata": {},
   "source": [
    "# Model"
   ]
  },
  {
   "cell_type": "code",
   "execution_count": null,
   "metadata": {},
   "outputs": [],
   "source": []
  },
  {
   "cell_type": "code",
   "execution_count": null,
   "metadata": {},
   "outputs": [],
   "source": []
  },
  {
   "cell_type": "markdown",
   "metadata": {},
   "source": [
    "# Train"
   ]
  },
  {
   "cell_type": "code",
   "execution_count": null,
   "metadata": {},
   "outputs": [],
   "source": [
    "for i, (train_set, test_set) in enumerate(folds):\n",
    "    # print(f\"Fold {i+1} - Train Set Length: {len(train_set)}, Test Set Length: {len(test_set)}\")\n",
    "    model.fit(train_set)"
   ]
  }
 ],
 "metadata": {
  "kernelspec": {
   "display_name": "Python 3",
   "language": "python",
   "name": "python3"
  },
  "language_info": {
   "codemirror_mode": {
    "name": "ipython",
    "version": 3
   },
   "file_extension": ".py",
   "mimetype": "text/x-python",
   "name": "python",
   "nbconvert_exporter": "python",
   "pygments_lexer": "ipython3",
   "version": "3.7.9"
  }
 },
 "nbformat": 4,
 "nbformat_minor": 2
}
